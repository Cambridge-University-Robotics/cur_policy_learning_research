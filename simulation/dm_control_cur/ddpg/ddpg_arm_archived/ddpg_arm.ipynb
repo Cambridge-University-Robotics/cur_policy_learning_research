{
 "cells": [
  {
   "cell_type": "code",
   "execution_count": 1,
   "metadata": {
    "collapsed": true
   },
   "outputs": [
    {
     "ename": "ModuleNotFoundError",
     "evalue": "No module named 'simulation.dm_control.ddpg.ddpg'",
     "output_type": "error",
     "traceback": [
      "\u001B[0;31m---------------------------------------------------------------------------\u001B[0m",
      "\u001B[0;31mModuleNotFoundError\u001B[0m                       Traceback (most recent call last)",
      "\u001B[0;32m/tmp/ipykernel_127653/694935955.py\u001B[0m in \u001B[0;36m<module>\u001B[0;34m\u001B[0m\n\u001B[1;32m      5\u001B[0m \u001B[0;32mfrom\u001B[0m \u001B[0msimulation\u001B[0m\u001B[0;34m.\u001B[0m\u001B[0mdm_control\u001B[0m\u001B[0;34m.\u001B[0m\u001B[0msimulation_api\u001B[0m \u001B[0;32mimport\u001B[0m \u001B[0mSimulationAPI\u001B[0m\u001B[0;34m\u001B[0m\u001B[0;34m\u001B[0m\u001B[0m\n\u001B[1;32m      6\u001B[0m \u001B[0;32mimport\u001B[0m \u001B[0msimulation\u001B[0m\u001B[0;34m.\u001B[0m\u001B[0mdm_control\u001B[0m\u001B[0;34m.\u001B[0m\u001B[0msimulation_control\u001B[0m\u001B[0;34m.\u001B[0m\u001B[0menvironments\u001B[0m \u001B[0;32mas\u001B[0m \u001B[0menvironments\u001B[0m\u001B[0;34m\u001B[0m\u001B[0;34m\u001B[0m\u001B[0m\n\u001B[0;32m----> 7\u001B[0;31m \u001B[0;32mfrom\u001B[0m \u001B[0msimulation\u001B[0m\u001B[0;34m.\u001B[0m\u001B[0mdm_control\u001B[0m\u001B[0;34m.\u001B[0m\u001B[0mddpg\u001B[0m\u001B[0;34m.\u001B[0m\u001B[0mddpg\u001B[0m \u001B[0;32mimport\u001B[0m \u001B[0mDDPGagent\u001B[0m\u001B[0;34m,\u001B[0m \u001B[0mOUNoise\u001B[0m\u001B[0;34m\u001B[0m\u001B[0;34m\u001B[0m\u001B[0m\n\u001B[0m\u001B[1;32m      8\u001B[0m \u001B[0;34m\u001B[0m\u001B[0m\n",
      "\u001B[0;31mModuleNotFoundError\u001B[0m: No module named 'simulation.dm_control.ddpg.ddpg'"
     ]
    }
   ],
   "source": [
    "\n",
    "import matplotlib.pyplot as plt\n",
    "import numpy as np\n",
    "from dm_control import viewer\n",
    "from tqdm import tqdm\n",
    "from simulation.dm_control.simulation_api import SimulationAPI\n",
    "import simulation.dm_control.simulation_control.environments as environments\n",
    "from simulation.dm_control.ddpg.ddpg import DDPGagent, OUNoise"
   ]
  },
  {
   "cell_type": "code",
   "execution_count": 2,
   "outputs": [
    {
     "name": "stdout",
     "output_type": "stream",
     "text": [
      "updated object_translate\n",
      "updated object_change_slope\n",
      "updated robot_change_finger_length\n",
      "updated robot_change_joint_stiffness\n",
      "updated robot_change_finger_spring_default\n",
      "updated robot_change_thumb_spring_default\n",
      "updated robot_change_friction\n"
     ]
    }
   ],
   "source": [
    "random_state = np.random.RandomState(42)\n",
    "\n",
    "LOAD_MODEL = True\n",
    "RESUME_TRAINING = False\n",
    "PATH_MODEL = 'passive_hand'\n",
    "NUM_EPISODES = 1000\n",
    "BATCH_SIZE = 128\n",
    "DURATION = 100\n",
    "ACTOR_LEARNING_RATE = 1e-4\n",
    "CRITIC_LEARNING_RATE = 1e-3\n",
    "GAMMA = 0.99\n",
    "TAU = 1e-2\n",
    "\n",
    "# for parametrization\n",
    "sapi = SimulationAPI()\n",
    "sapi.rebuild_XML()\n",
    "env = environments.load(domain_name='passive_hand', task_name='lift_sparse')\n",
    "action_spec = env.action_spec()\n",
    "dim_action = action_spec.shape[0]\n",
    "dim_obs = 6"
   ],
   "metadata": {
    "collapsed": false,
    "pycharm": {
     "name": "#%%\n"
    }
   }
  },
  {
   "cell_type": "code",
   "execution_count": 3,
   "outputs": [],
   "source": [
    "def parse_obs(obs):\n",
    "    \"\"\"\n",
    "    Take only gripper position and object position\n",
    "    \"\"\"\n",
    "    x = np.array([])\n",
    "    x = np.append(x, obs['grip_pos'])\n",
    "    x = np.append(x, obs['object_pos'])\n",
    "    return x\n",
    "\n",
    "\n",
    "agent = DDPGagent(\n",
    "    dim_obs,\n",
    "    dim_action,\n",
    "    actor_learning_rate=ACTOR_LEARNING_RATE,\n",
    "    critic_learning_rate=CRITIC_LEARNING_RATE,\n",
    "    gamma=GAMMA,\n",
    "    tau=TAU\n",
    ")\n",
    "\n",
    "if LOAD_MODEL: agent.load(PATH_MODEL)\n",
    "\n",
    "noise = OUNoise(dim_action, action_spec.minimum, action_spec.maximum)\n",
    "\n",
    "\n",
    "def denorm(a):  #  use on model output before passing to env\n",
    "    act_k = (action_spec.maximum - action_spec.minimum) / 2.\n",
    "    act_b = (action_spec.maximum + action_spec.minimum) / 2.\n",
    "    return a * act_k + act_b"
   ],
   "metadata": {
    "collapsed": false,
    "pycharm": {
     "name": "#%%\n"
    }
   }
  },
  {
   "cell_type": "code",
   "execution_count": 4,
   "outputs": [],
   "source": [
    "if RESUME_TRAINING:\n",
    "    rewards = []\n",
    "    avg_rewards = []\n",
    "\n",
    "    for episode in tqdm(range(NUM_EPISODES)):\n",
    "        time_step = env.reset()\n",
    "        state = parse_obs(time_step.observation)\n",
    "        noise.reset()\n",
    "        episode_reward = 0\n",
    "        episode_reward_history = []\n",
    "        for step in range(DURATION):\n",
    "            action = agent.get_action(state)\n",
    "            action = noise.get_action(action, step)\n",
    "            try:\n",
    "                time_step_2 = env.step(denorm(action))\n",
    "            except:\n",
    "                print(f'Physics Error: {action}')\n",
    "                break\n",
    "            state_2 = parse_obs(time_step_2.observation)\n",
    "            reward = time_step_2.reward\n",
    "            agent.memory.push(state, action, reward, state_2, -1)\n",
    "            state = state_2\n",
    "            if len(agent.memory) > BATCH_SIZE:\n",
    "                agent.update(BATCH_SIZE)\n",
    "            episode_reward += reward\n",
    "            episode_reward_history.append(reward)\n",
    "        print(f\"episode: {episode}, \"\n",
    "              f\"reward: {np.round(episode_reward, decimals=2)}, \"\n",
    "              f\"average_reward: {np.mean(rewards[-10:])}\")\n",
    "        rewards.append(episode_reward)\n",
    "        avg_rewards.append(np.mean(rewards[-10:]))\n",
    "\n",
    "    agent.save(PATH_MODEL)\n",
    "\n",
    "    plt.plot(rewards)\n",
    "    plt.plot(avg_rewards)\n",
    "    plt.plot()\n",
    "    plt.xlabel('Episode')\n",
    "    plt.ylabel('Reward')\n",
    "    plt.show()"
   ],
   "metadata": {
    "collapsed": false,
    "pycharm": {
     "name": "#%%\n"
    }
   }
  },
  {
   "cell_type": "code",
   "execution_count": 5,
   "outputs": [],
   "source": [
    "t = 0\n",
    "\n",
    "def policy(time_step):\n",
    "    global t\n",
    "    state = parse_obs(time_step.observation)\n",
    "    action = agent.get_action(state)\n",
    "    action = noise.get_action(action, t)\n",
    "    action = denorm(action)\n",
    "    t += 1\n",
    "    return action\n",
    "\n",
    "viewer.launch(env, policy=policy)"
   ],
   "metadata": {
    "collapsed": false,
    "pycharm": {
     "name": "#%%\n"
    }
   }
  },
  {
   "cell_type": "code",
   "execution_count": 25,
   "outputs": [],
   "source": [],
   "metadata": {
    "collapsed": false,
    "pycharm": {
     "name": "#%%\n"
    }
   }
  }
 ],
 "metadata": {
  "kernelspec": {
   "name": "python3",
   "language": "python",
   "display_name": "Python 3"
  },
  "language_info": {
   "codemirror_mode": {
    "name": "ipython",
    "version": 2
   },
   "file_extension": ".py",
   "mimetype": "text/x-python",
   "name": "python",
   "nbconvert_exporter": "python",
   "pygments_lexer": "ipython2",
   "version": "2.7.6"
  }
 },
 "nbformat": 4,
 "nbformat_minor": 0
}