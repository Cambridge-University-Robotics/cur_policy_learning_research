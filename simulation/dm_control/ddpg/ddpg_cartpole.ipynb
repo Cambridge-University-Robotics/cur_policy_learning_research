{
 "cells": [
  {
   "cell_type": "code",
   "execution_count": 1,
   "outputs": [],
   "source": [
    "import numpy as np\n",
    "import matplotlib.pyplot as plt\n",
    "from dm_control import suite, viewer\n",
    "from tqdm import tqdm\n",
    "from ddpg import DDPGagent\n",
    "from utils import *"
   ],
   "metadata": {
    "collapsed": false,
    "pycharm": {
     "name": "#%%\n"
    }
   }
  },
  {
   "cell_type": "code",
   "execution_count": 2,
   "metadata": {
    "collapsed": true,
    "pycharm": {
     "name": "#%% Parameters and helper functions\n"
    }
   },
   "outputs": [],
   "source": [
    "random_state = np.random.RandomState(42)\n",
    "\n",
    "PATH_MODEL = 'ddpg_actor.pt'\n",
    "NUM_EPISODES = 50000\n",
    "NUM_WARMUP = 10000\n",
    "BATCH_SIZE = 128\n",
    "DURATION = 5\n",
    "ACTOR_LEARNING_RATE=1e-4\n",
    "CRITIC_LEARNING_RATE=1e-3\n",
    "GAMMA=0.99\n",
    "TAU=1e-2\n",
    "\n",
    "env = suite.load('ball_in_cup', 'catch', task_kwargs={'random': random_state})\n",
    "# env = suite.load('cartpole', 'balance', task_kwargs={'random': random_state})\n",
    "action_spec = env.action_spec()\n",
    "obs_spec = env.observation_spec()\n",
    "dim_action = action_spec.shape[0]\n",
    "dim_obs = sum(tuple(map(lambda x: x.shape[0], obs_spec.values())))\n",
    "\n",
    "agent = DDPGagent(\n",
    "    dim_obs,\n",
    "    dim_action,\n",
    "    actor_learning_rate=ACTOR_LEARNING_RATE,\n",
    "    critic_learning_rate=CRITIC_LEARNING_RATE,\n",
    "    gamma=GAMMA,\n",
    "    tau=TAU\n",
    ")\n",
    "noise = OUNoise(dim_action, action_spec.minimum, action_spec.maximum)\n",
    "\n",
    "def denorm(a): #  use on model output before passing to env\n",
    "    act_k = (action_spec.maximum - action_spec.minimum) / 2.\n",
    "    act_b = (action_spec.maximum + action_spec.minimum) / 2.\n",
    "    return a * act_k + act_b\n",
    "\n",
    "def norm(a): # use on env output before passing to model\n",
    "    act_k_inv = 2. / (action_spec.maximum - action_spec.minimum)\n",
    "    act_b = (action_spec.maximum + action_spec.minimum) / 2.\n",
    "    return act_k_inv * (a - act_b)\n",
    "\n",
    "def parse(obs):\n",
    "    \"\"\"\n",
    "    We lose information about the variables when we combine, for instance,\n",
    "    velocity and position into 1 long array of observations. Could treating\n",
    "    them separately lead to a better NN architecture? Velocity, position\n",
    "    and numerical integration for instance take only ...\n",
    "    \"\"\"\n",
    "    x = np.array([])\n",
    "    for _, v in obs.items():\n",
    "        x = np.append(x, v)\n",
    "    return x\n",
    "\n",
    "def off_policy():\n",
    "    return np.random.uniform(action_spec.minimum, action_spec.maximum, size=action_spec.shape)"
   ]
  },
  {
   "cell_type": "code",
   "execution_count": 3,
   "outputs": [
    {
     "name": "stderr",
     "output_type": "stream",
     "text": [
      "  2%|▏         | 1148/50000 [00:02<01:30, 539.53it/s]\n"
     ]
    },
    {
     "name": "stdout",
     "output_type": "stream",
     "text": [
      "episode: 114, reward: 5.0, average_reward: 0.0\n",
      "episode: 120, reward: 5.0, average_reward: 0.5\n",
      "episode: 128, reward: 4.0, average_reward: 0.5\n",
      "episode: 143, reward: 5.0, average_reward: 0.0\n",
      "episode: 151, reward: 5.0, average_reward: 0.5\n",
      "episode: 255, reward: 1.0, average_reward: 0.0\n",
      "episode: 262, reward: 1.0, average_reward: 0.1\n",
      "episode: 265, reward: 5.0, average_reward: 0.2\n",
      "episode: 329, reward: 4.0, average_reward: 0.0\n",
      "episode: 350, reward: 3.0, average_reward: 0.0\n",
      "episode: 405, reward: 1.0, average_reward: 0.0\n",
      "episode: 442, reward: 4.0, average_reward: 0.0\n",
      "episode: 476, reward: 1.0, average_reward: 0.0\n",
      "episode: 544, reward: 2.0, average_reward: 0.0\n",
      "episode: 596, reward: 3.0, average_reward: 0.0\n",
      "episode: 612, reward: 5.0, average_reward: 0.0\n",
      "episode: 669, reward: 2.0, average_reward: 0.0\n",
      "episode: 727, reward: 1.0, average_reward: 0.0\n",
      "episode: 731, reward: 2.0, average_reward: 0.1\n",
      "episode: 806, reward: 5.0, average_reward: 0.0\n",
      "episode: 836, reward: 5.0, average_reward: 0.0\n",
      "episode: 851, reward: 5.0, average_reward: 0.0\n",
      "episode: 930, reward: 3.0, average_reward: 0.0\n",
      "episode: 948, reward: 1.0, average_reward: 0.0\n",
      "episode: 1005, reward: 5.0, average_reward: 0.0\n",
      "episode: 1017, reward: 5.0, average_reward: 0.0\n",
      "episode: 1054, reward: 5.0, average_reward: 0.0\n"
     ]
    },
    {
     "ename": "KeyboardInterrupt",
     "evalue": "",
     "output_type": "error",
     "traceback": [
      "\u001B[1;31m---------------------------------------------------------------------------\u001B[0m",
      "\u001B[1;31mKeyboardInterrupt\u001B[0m                         Traceback (most recent call last)",
      "\u001B[1;32m<ipython-input-3-ae6e6e7a3271>\u001B[0m in \u001B[0;36m<module>\u001B[1;34m\u001B[0m\n\u001B[0;32m     13\u001B[0m         \u001B[1;32mif\u001B[0m \u001B[0mepisode\u001B[0m \u001B[1;33m<\u001B[0m \u001B[0mNUM_WARMUP\u001B[0m\u001B[1;33m:\u001B[0m\u001B[1;33m\u001B[0m\u001B[1;33m\u001B[0m\u001B[0m\n\u001B[0;32m     14\u001B[0m             \u001B[0maction\u001B[0m \u001B[1;33m=\u001B[0m \u001B[0moff_policy\u001B[0m\u001B[1;33m(\u001B[0m\u001B[1;33m)\u001B[0m\u001B[1;33m\u001B[0m\u001B[1;33m\u001B[0m\u001B[0m\n\u001B[1;32m---> 15\u001B[1;33m             \u001B[0mtime_step_2\u001B[0m \u001B[1;33m=\u001B[0m \u001B[0menv\u001B[0m\u001B[1;33m.\u001B[0m\u001B[0mstep\u001B[0m\u001B[1;33m(\u001B[0m\u001B[0maction\u001B[0m\u001B[1;33m)\u001B[0m\u001B[1;33m\u001B[0m\u001B[1;33m\u001B[0m\u001B[0m\n\u001B[0m\u001B[0;32m     16\u001B[0m             \u001B[0mstate_2\u001B[0m \u001B[1;33m=\u001B[0m \u001B[0mparse\u001B[0m\u001B[1;33m(\u001B[0m\u001B[0mtime_step_2\u001B[0m\u001B[1;33m.\u001B[0m\u001B[0mobservation\u001B[0m\u001B[1;33m)\u001B[0m\u001B[1;33m\u001B[0m\u001B[1;33m\u001B[0m\u001B[0m\n\u001B[0;32m     17\u001B[0m             \u001B[1;32mif\u001B[0m \u001B[0mtime_step_2\u001B[0m\u001B[1;33m.\u001B[0m\u001B[0mreward\u001B[0m \u001B[1;33m>\u001B[0m \u001B[1;36m0\u001B[0m\u001B[1;33m:\u001B[0m\u001B[1;33m\u001B[0m\u001B[1;33m\u001B[0m\u001B[0m\n",
      "\u001B[1;32mc:\\users\\leeji\\pycharmprojects\\algorithms\\venv\\lib\\site-packages\\dm_control\\rl\\control.py\u001B[0m in \u001B[0;36mstep\u001B[1;34m(self, action)\u001B[0m\n\u001B[0;32m    100\u001B[0m     \u001B[0mself\u001B[0m\u001B[1;33m.\u001B[0m\u001B[0m_task\u001B[0m\u001B[1;33m.\u001B[0m\u001B[0mbefore_step\u001B[0m\u001B[1;33m(\u001B[0m\u001B[0maction\u001B[0m\u001B[1;33m,\u001B[0m \u001B[0mself\u001B[0m\u001B[1;33m.\u001B[0m\u001B[0m_physics\u001B[0m\u001B[1;33m)\u001B[0m\u001B[1;33m\u001B[0m\u001B[1;33m\u001B[0m\u001B[0m\n\u001B[0;32m    101\u001B[0m     \u001B[1;32mfor\u001B[0m \u001B[0m_\u001B[0m \u001B[1;32min\u001B[0m \u001B[0mrange\u001B[0m\u001B[1;33m(\u001B[0m\u001B[0mself\u001B[0m\u001B[1;33m.\u001B[0m\u001B[0m_n_sub_steps\u001B[0m\u001B[1;33m)\u001B[0m\u001B[1;33m:\u001B[0m\u001B[1;33m\u001B[0m\u001B[1;33m\u001B[0m\u001B[0m\n\u001B[1;32m--> 102\u001B[1;33m       \u001B[0mself\u001B[0m\u001B[1;33m.\u001B[0m\u001B[0m_physics\u001B[0m\u001B[1;33m.\u001B[0m\u001B[0mstep\u001B[0m\u001B[1;33m(\u001B[0m\u001B[1;33m)\u001B[0m\u001B[1;33m\u001B[0m\u001B[1;33m\u001B[0m\u001B[0m\n\u001B[0m\u001B[0;32m    103\u001B[0m     \u001B[0mself\u001B[0m\u001B[1;33m.\u001B[0m\u001B[0m_task\u001B[0m\u001B[1;33m.\u001B[0m\u001B[0mafter_step\u001B[0m\u001B[1;33m(\u001B[0m\u001B[0mself\u001B[0m\u001B[1;33m.\u001B[0m\u001B[0m_physics\u001B[0m\u001B[1;33m)\u001B[0m\u001B[1;33m\u001B[0m\u001B[1;33m\u001B[0m\u001B[0m\n\u001B[0;32m    104\u001B[0m \u001B[1;33m\u001B[0m\u001B[0m\n",
      "\u001B[1;32mc:\\users\\leeji\\pycharmprojects\\algorithms\\venv\\lib\\site-packages\\dm_control\\mujoco\\engine.py\u001B[0m in \u001B[0;36mstep\u001B[1;34m(self)\u001B[0m\n\u001B[0;32m    164\u001B[0m         \u001B[0mmjlib\u001B[0m\u001B[1;33m.\u001B[0m\u001B[0mmj_step\u001B[0m\u001B[1;33m(\u001B[0m\u001B[0mself\u001B[0m\u001B[1;33m.\u001B[0m\u001B[0mmodel\u001B[0m\u001B[1;33m.\u001B[0m\u001B[0mptr\u001B[0m\u001B[1;33m,\u001B[0m \u001B[0mself\u001B[0m\u001B[1;33m.\u001B[0m\u001B[0mdata\u001B[0m\u001B[1;33m.\u001B[0m\u001B[0mptr\u001B[0m\u001B[1;33m)\u001B[0m\u001B[1;33m\u001B[0m\u001B[1;33m\u001B[0m\u001B[0m\n\u001B[0;32m    165\u001B[0m \u001B[1;33m\u001B[0m\u001B[0m\n\u001B[1;32m--> 166\u001B[1;33m       \u001B[0mmjlib\u001B[0m\u001B[1;33m.\u001B[0m\u001B[0mmj_step1\u001B[0m\u001B[1;33m(\u001B[0m\u001B[0mself\u001B[0m\u001B[1;33m.\u001B[0m\u001B[0mmodel\u001B[0m\u001B[1;33m.\u001B[0m\u001B[0mptr\u001B[0m\u001B[1;33m,\u001B[0m \u001B[0mself\u001B[0m\u001B[1;33m.\u001B[0m\u001B[0mdata\u001B[0m\u001B[1;33m.\u001B[0m\u001B[0mptr\u001B[0m\u001B[1;33m)\u001B[0m\u001B[1;33m\u001B[0m\u001B[1;33m\u001B[0m\u001B[0m\n\u001B[0m\u001B[0;32m    167\u001B[0m \u001B[1;33m\u001B[0m\u001B[0m\n\u001B[0;32m    168\u001B[0m   def render(\n",
      "\u001B[1;31mKeyboardInterrupt\u001B[0m: "
     ]
    }
   ],
   "source": [
    "rewards = []\n",
    "avg_rewards = []\n",
    "\n",
    "for episode in tqdm(range(NUM_EPISODES)):\n",
    "    time_step = env.reset()\n",
    "    state = parse(time_step.observation)\n",
    "    noise.reset()\n",
    "    episode_reward = 0\n",
    "\n",
    "    for step in range(DURATION):\n",
    "\n",
    "        # initially, add only successful tasks to memory\n",
    "        if episode < NUM_WARMUP:\n",
    "            action = off_policy()\n",
    "            time_step_2 = env.step(action)\n",
    "            state_2 = parse(time_step_2.observation)\n",
    "            if time_step_2.reward > 0:\n",
    "                agent.memory.push(state, action, time_step_2.reward, state_2, -1)\n",
    "            state = state_2\n",
    "\n",
    "        else:\n",
    "            action = agent.get_action(state)\n",
    "            action = noise.get_action(action, step)\n",
    "            time_step_2 = env.step(denorm(action))\n",
    "            state_2 = parse(time_step_2.observation)\n",
    "            agent.memory.push(state, action, time_step_2.reward, state_2, -1)\n",
    "            state = state_2\n",
    "        if len(agent.memory) > BATCH_SIZE:\n",
    "            agent.update(BATCH_SIZE)\n",
    "        episode_reward += time_step_2.reward\n",
    "    if episode_reward > 0:\n",
    "        print(f\"episode: {episode}, \"\n",
    "          f\"reward: {np.round(episode_reward, decimals=2)}, \"\n",
    "          f\"average_reward: {np.mean(rewards[-10:])}\")\n",
    "    rewards.append(episode_reward)\n",
    "    avg_rewards.append(np.mean(rewards[-10:]))\n",
    "\n",
    "agent.save(PATH_MODEL)\n",
    "\n",
    "plt.plot(rewards)\n",
    "plt.plot(avg_rewards)\n",
    "plt.plot()\n",
    "plt.xlabel('Episode')\n",
    "plt.ylabel('Reward')\n",
    "plt.show()"
   ],
   "metadata": {
    "collapsed": false,
    "pycharm": {
     "name": "#%% Train\n"
    }
   }
  },
  {
   "cell_type": "code",
   "execution_count": null,
   "outputs": [],
   "source": [
    "agent.load(PATH_MODEL)\n",
    "# Define a uniform random policy.\n",
    "def random_policy(time_step):\n",
    "    state = parse(time_step.observation)\n",
    "    return denorm(agent.get_action(state))\n",
    "\n",
    "# Launch the viewer application.\n",
    "viewer.launch(env, policy=random_policy)"
   ],
   "metadata": {
    "collapsed": false,
    "pycharm": {
     "name": "#%% Display\n"
    }
   }
  },
  {
   "cell_type": "code",
   "execution_count": null,
   "outputs": [],
   "source": [],
   "metadata": {
    "collapsed": false,
    "pycharm": {
     "name": "#%%\n"
    }
   }
  }
 ],
 "metadata": {
  "kernelspec": {
   "display_name": "Python 3",
   "language": "python",
   "name": "python3"
  },
  "language_info": {
   "codemirror_mode": {
    "name": "ipython",
    "version": 2
   },
   "file_extension": ".py",
   "mimetype": "text/x-python",
   "name": "python",
   "nbconvert_exporter": "python",
   "pygments_lexer": "ipython2",
   "version": "2.7.6"
  }
 },
 "nbformat": 4,
 "nbformat_minor": 0
}