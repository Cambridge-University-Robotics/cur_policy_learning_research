{
 "cells": [
  {
   "cell_type": "code",
   "execution_count": 2,
   "outputs": [],
   "source": [
    "import numpy as np\n",
    "import matplotlib.pyplot as plt\n",
    "from dm_control import suite, viewer\n",
    "from tqdm import tqdm\n",
    "from simulation.dm_control.ddpg.ddpg_classes.ddpg import DDPGagent, OUNoise\n",
    "from simulation.dm_control.ddpg.ddpg_classes.utils import MemoryRank"
   ],
   "metadata": {
    "collapsed": false,
    "pycharm": {
     "name": "#%%\n"
    }
   }
  },
  {
   "cell_type": "code",
   "execution_count": 3,
   "metadata": {
    "collapsed": true,
    "pycharm": {
     "name": "#%% Parameters and helper functions\n"
    }
   },
   "outputs": [],
   "source": [
    "random_state = np.random.RandomState(42)\n",
    "\n",
    "RESUME_TRAINING = False\n",
    "PATH_MODEL = 'cartpole'\n",
    "TASK = 'balance'\n",
    "NUM_EPISODES = 100\n",
    "BATCH_SIZE = 128\n",
    "DURATION = 50\n",
    "ACTOR_LEARNING_RATE=1e-4\n",
    "CRITIC_LEARNING_RATE=1e-3\n",
    "GAMMA=0.99\n",
    "TAU=1e-2\n",
    "\n",
    "env = suite.load(PATH_MODEL, TASK, task_kwargs={'random': random_state})\n",
    "action_spec = env.action_spec()\n",
    "obs_spec = env.observation_spec()\n",
    "dim_action = action_spec.shape[0]\n",
    "dim_obs = sum(tuple(map(lambda x: int(np.prod(x.shape)), obs_spec.values())))\n",
    "\n",
    "agent = DDPGagent(\n",
    "    num_states=dim_obs,\n",
    "    num_actions=dim_action,\n",
    "    action_low= action_spec.minimum,\n",
    "    action_high=action_spec.maximum,\n",
    "    actor_learning_rate=ACTOR_LEARNING_RATE,\n",
    "    critic_learning_rate=CRITIC_LEARNING_RATE,\n",
    "    gamma=GAMMA,\n",
    "    tau=TAU,\n",
    "    memory=MemoryRank\n",
    ")\n",
    "if RESUME_TRAINING: agent.load(PATH_MODEL)\n",
    "\n",
    "def denorm(a): #  use on model output before passing to env\n",
    "    act_k = (action_spec.maximum - action_spec.minimum) / 2.\n",
    "    act_b = (action_spec.maximum + action_spec.minimum) / 2.\n",
    "    return a * act_k + act_b\n",
    "\n",
    "def norm(a): # use on env output before passing to model\n",
    "    act_k_inv = 2. / (action_spec.maximum - action_spec.minimum)\n",
    "    act_b = (action_spec.maximum + action_spec.minimum) / 2.\n",
    "    return act_k_inv * (a - act_b)\n",
    "\n",
    "def parse(obs):\n",
    "    \"\"\"\n",
    "    We lose information about the variables when we combine, for instance,\n",
    "    velocity and position into 1 long array of observations. Could treating\n",
    "    them separately lead to a better NN architecture? Velocity, position\n",
    "    and numerical integration for instance take only ...\n",
    "    \"\"\"\n",
    "    x = np.array([])\n",
    "    for _, v in obs.items():\n",
    "        x = np.append(x, v)\n",
    "    return x\n",
    "\n",
    "def off_policy():\n",
    "    return np.random.uniform(action_spec.minimum, action_spec.maximum, size=action_spec.shape)"
   ]
  },
  {
   "cell_type": "code",
   "execution_count": null,
   "outputs": [],
   "source": [
    "rewards = []\n",
    "avg_rewards = []\n",
    "\n",
    "for episode in tqdm(range(NUM_EPISODES)):\n",
    "    time_step = env.reset()\n",
    "    state = parse(time_step.observation)\n",
    "    episode_reward = 0\n",
    "\n",
    "    for step in range(DURATION):\n",
    "        action = agent.get_action(state, t=step)\n",
    "        time_step_2 = env.step(denorm(action))\n",
    "        state_2 = parse(time_step_2.observation)\n",
    "        agent.push(state, action, time_step_2.reward, state_2, -1)\n",
    "        state = state_2\n",
    "        if len(agent.memory) > BATCH_SIZE:\n",
    "            agent.update(BATCH_SIZE)\n",
    "        episode_reward += time_step_2.reward\n",
    "    print(f\"episode: {episode}, \"\n",
    "      f\"reward: {np.round(episode_reward, decimals=2)}, \"\n",
    "      f\"average_reward: {np.mean(rewards[-10:])}\")\n",
    "    rewards.append(episode_reward)\n",
    "    avg_rewards.append(np.mean(rewards[-10:]))\n",
    "\n",
    "agent.save(PATH_MODEL)\n",
    "\n",
    "plt.plot(rewards)\n",
    "plt.plot(avg_rewards)\n",
    "plt.plot()\n",
    "plt.xlabel('Episode')\n",
    "plt.ylabel('Reward')\n",
    "plt.show()"
   ],
   "metadata": {
    "collapsed": false,
    "pycharm": {
     "name": "#%% Train\n"
    }
   }
  },
  {
   "cell_type": "code",
   "execution_count": 4,
   "outputs": [],
   "source": [
    "# Define a uniform random policy.\n",
    "t = -1\n",
    "def policy(time_step):\n",
    "    global t\n",
    "    t += 1\n",
    "    state = parse(time_step.observation)\n",
    "    action = agent.get_action(state, t)\n",
    "    # print(time_step)\n",
    "    action = denorm(action)\n",
    "    # print(action)\n",
    "    return action\n",
    "\n",
    "# Launch the viewer application.\n",
    "viewer.launch(env, policy=policy)"
   ],
   "metadata": {
    "collapsed": false,
    "pycharm": {
     "name": "#%% Display\n"
    }
   }
  },
  {
   "cell_type": "code",
   "execution_count": null,
   "outputs": [],
   "source": [],
   "metadata": {
    "collapsed": false,
    "pycharm": {
     "name": "#%%\n"
    }
   }
  }
 ],
 "metadata": {
  "kernelspec": {
   "display_name": "Python 3",
   "language": "python",
   "name": "python3"
  },
  "language_info": {
   "codemirror_mode": {
    "name": "ipython",
    "version": 2
   },
   "file_extension": ".py",
   "mimetype": "text/x-python",
   "name": "python",
   "nbconvert_exporter": "python",
   "pygments_lexer": "ipython2",
   "version": "2.7.6"
  }
 },
 "nbformat": 4,
 "nbformat_minor": 0
}