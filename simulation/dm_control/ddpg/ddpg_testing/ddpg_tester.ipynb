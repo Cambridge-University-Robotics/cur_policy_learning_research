{
 "cells": [
  {
   "cell_type": "code",
   "execution_count": 1,
   "outputs": [],
   "source": [
    "import numpy as np\n",
    "import matplotlib.pyplot as plt\n",
    "from dm_control import suite, viewer\n",
    "from tqdm import tqdm\n",
    "from simulation.dm_control.ddpg.ddpg_classes.ddpg import DDPGagent, OUNoise\n",
    "from simulation.dm_control.ddpg.ddpg_classes.utils import MemoryRank"
   ],
   "metadata": {
    "collapsed": false,
    "pycharm": {
     "name": "#%%\n"
    }
   }
  },
  {
   "cell_type": "code",
   "execution_count": 2,
   "metadata": {
    "collapsed": true,
    "pycharm": {
     "name": "#%% Parameters and helper functions\n"
    }
   },
   "outputs": [],
   "source": [
    "random_state = np.random.RandomState(42)\n",
    "\n",
    "RESUME_TRAINING = False\n",
    "PATH_MODEL = 'cartpole'\n",
    "TASK = 'balance'\n",
    "NUM_EPISODES = 100\n",
    "BATCH_SIZE = 128\n",
    "DURATION = 50\n",
    "ACTOR_LEARNING_RATE=1e-4\n",
    "CRITIC_LEARNING_RATE=1e-3\n",
    "GAMMA=0.99\n",
    "TAU=1e-2\n",
    "\n",
    "env = suite.load(PATH_MODEL, TASK, task_kwargs={'random': random_state})\n",
    "action_spec = env.action_spec()\n",
    "obs_spec = env.observation_spec()\n",
    "dim_action = action_spec.shape[0]\n",
    "dim_obs = sum(tuple(map(lambda x: int(np.prod(x.shape)), obs_spec.values())))\n",
    "\n",
    "agent = DDPGagent(\n",
    "    dim_obs,\n",
    "    dim_action,\n",
    "    actor_learning_rate=ACTOR_LEARNING_RATE,\n",
    "    critic_learning_rate=CRITIC_LEARNING_RATE,\n",
    "    gamma=GAMMA,\n",
    "    tau=TAU,\n",
    "    memory=MemoryRank\n",
    ")\n",
    "if RESUME_TRAINING: agent.load(PATH_MODEL)\n",
    "noise = OUNoise(dim_action, action_spec.minimum, action_spec.maximum)\n",
    "\n",
    "def denorm(a): #  use on model output before passing to env\n",
    "    act_k = (action_spec.maximum - action_spec.minimum) / 2.\n",
    "    act_b = (action_spec.maximum + action_spec.minimum) / 2.\n",
    "    return a * act_k + act_b\n",
    "\n",
    "def norm(a): # use on env output before passing to model\n",
    "    act_k_inv = 2. / (action_spec.maximum - action_spec.minimum)\n",
    "    act_b = (action_spec.maximum + action_spec.minimum) / 2.\n",
    "    return act_k_inv * (a - act_b)\n",
    "\n",
    "def parse(obs):\n",
    "    \"\"\"\n",
    "    We lose information about the variables when we combine, for instance,\n",
    "    velocity and position into 1 long array of observations. Could treating\n",
    "    them separately lead to a better NN architecture? Velocity, position\n",
    "    and numerical integration for instance take only ...\n",
    "    \"\"\"\n",
    "    x = np.array([])\n",
    "    for _, v in obs.items():\n",
    "        x = np.append(x, v)\n",
    "    return x\n",
    "\n",
    "def off_policy():\n",
    "    return np.random.uniform(action_spec.minimum, action_spec.maximum, size=action_spec.shape)"
   ]
  },
  {
   "cell_type": "code",
   "execution_count": 3,
   "outputs": [
    {
     "name": "stderr",
     "output_type": "stream",
     "text": [
      "  0%|          | 0/100 [00:00<?, ?it/s]/home/ivin/Cambridge University Robotics/cur_policy_learning_research/venv/lib/python3.8/site-packages/numpy/core/fromnumeric.py:3372: RuntimeWarning: Mean of empty slice.\n",
      "  return _methods._mean(a, axis=axis, dtype=dtype,\n",
      "/home/ivin/Cambridge University Robotics/cur_policy_learning_research/venv/lib/python3.8/site-packages/numpy/core/_methods.py:170: RuntimeWarning: invalid value encountered in double_scalars\n",
      "  ret = ret.dtype.type(ret / rcount)\n",
      "100%|██████████| 100/100 [00:28<00:00,  3.46it/s]\n"
     ]
    },
    {
     "name": "stdout",
     "output_type": "stream",
     "text": [
      "episode: 0, reward: 47.21, average_reward: nan\n",
      "episode: 1, reward: 36.81, average_reward: 47.21072281430339\n",
      "episode: 2, reward: 47.4, average_reward: 42.011772913099435\n",
      "episode: 3, reward: 43.14, average_reward: 43.808654136281774\n",
      "episode: 4, reward: 47.13, average_reward: 43.6410939276502\n",
      "episode: 5, reward: 48.5, average_reward: 44.33876523400894\n",
      "episode: 6, reward: 44.51, average_reward: 45.03226971275546\n",
      "episode: 7, reward: 45.98, average_reward: 44.958252914412064\n",
      "episode: 8, reward: 45.59, average_reward: 45.08577684334368\n",
      "episode: 9, reward: 42.74, average_reward: 45.142062895632925\n",
      "episode: 10, reward: 37.92, average_reward: 44.901552069002335\n",
      "episode: 11, reward: 44.94, average_reward: 43.972210498018896\n",
      "episode: 12, reward: 40.71, average_reward: 44.78525902408317\n",
      "episode: 13, reward: 42.56, average_reward: 44.11607118702279\n",
      "episode: 14, reward: 47.87, average_reward: 44.0583938398708\n",
      "episode: 15, reward: 35.39, average_reward: 44.13233840994444\n",
      "episode: 16, reward: 37.12, average_reward: 42.821177121473895\n",
      "episode: 17, reward: 45.1, average_reward: 42.08175135811326\n",
      "episode: 18, reward: 43.65, average_reward: 41.99362450468067\n",
      "episode: 19, reward: 46.44, average_reward: 41.79976159023438\n",
      "episode: 20, reward: 47.5, average_reward: 42.17017184561597\n",
      "episode: 21, reward: 48.28, average_reward: 43.128446967555874\n",
      "episode: 22, reward: 36.12, average_reward: 43.46237510252709\n",
      "episode: 23, reward: 35.06, average_reward: 43.003564669335745\n",
      "episode: 24, reward: 40.52, average_reward: 42.25328150665082\n",
      "episode: 25, reward: 48.02, average_reward: 41.51827107770593\n",
      "episode: 26, reward: 42.35, average_reward: 42.78132848153369\n",
      "episode: 27, reward: 46.01, average_reward: 43.30455561479523\n",
      "episode: 28, reward: 45.78, average_reward: 43.39581452839875\n",
      "episode: 29, reward: 44.77, average_reward: 43.608594289065955\n",
      "episode: 30, reward: 46.21, average_reward: 43.44189291046614\n",
      "episode: 31, reward: 46.0, average_reward: 43.31245876979742\n",
      "episode: 32, reward: 42.72, average_reward: 43.08447637346491\n",
      "episode: 33, reward: 47.94, average_reward: 43.74435260915246\n",
      "episode: 34, reward: 47.06, average_reward: 45.032231065961696\n",
      "episode: 35, reward: 46.79, average_reward: 45.68656031599418\n",
      "episode: 36, reward: 46.84, average_reward: 45.56330984997449\n",
      "episode: 37, reward: 41.72, average_reward: 46.01179788732904\n",
      "episode: 38, reward: 47.81, average_reward: 45.583256333814795\n",
      "episode: 39, reward: 46.8, average_reward: 45.78576042689757\n",
      "episode: 40, reward: 48.52, average_reward: 45.98843274095619\n",
      "episode: 41, reward: 46.86, average_reward: 46.220136866232735\n",
      "episode: 42, reward: 48.71, average_reward: 46.30575385437692\n",
      "episode: 43, reward: 46.89, average_reward: 46.9045085957434\n",
      "episode: 44, reward: 47.39, average_reward: 46.80002149596997\n",
      "episode: 45, reward: 46.06, average_reward: 46.833189886213916\n",
      "episode: 46, reward: 44.02, average_reward: 46.76099960563828\n",
      "episode: 47, reward: 46.55, average_reward: 46.478972064938716\n",
      "episode: 48, reward: 47.61, average_reward: 46.9610597934155\n",
      "episode: 49, reward: 45.91, average_reward: 46.941859465886466\n",
      "episode: 50, reward: 42.53, average_reward: 46.85267506151568\n",
      "episode: 51, reward: 45.78, average_reward: 46.253144158121856\n",
      "episode: 52, reward: 38.64, average_reward: 46.14535075051158\n",
      "episode: 53, reward: 47.19, average_reward: 45.13863939300244\n",
      "episode: 54, reward: 46.82, average_reward: 45.16870946455201\n",
      "episode: 55, reward: 46.64, average_reward: 45.11175294494573\n",
      "episode: 56, reward: 46.68, average_reward: 45.169548840592086\n",
      "episode: 57, reward: 47.3, average_reward: 45.43602789235158\n",
      "episode: 58, reward: 41.97, average_reward: 45.51192621110144\n",
      "episode: 59, reward: 47.47, average_reward: 44.94782361023026\n",
      "episode: 60, reward: 48.58, average_reward: 45.10435833594196\n",
      "episode: 61, reward: 46.58, average_reward: 45.709635012040955\n",
      "episode: 62, reward: 46.52, average_reward: 45.789481967256364\n",
      "episode: 63, reward: 47.32, average_reward: 46.57689073886674\n",
      "episode: 64, reward: 46.84, average_reward: 46.589953949940494\n",
      "episode: 65, reward: 45.66, average_reward: 46.59120712305747\n",
      "episode: 66, reward: 47.69, average_reward: 46.493098165966565\n",
      "episode: 67, reward: 47.52, average_reward: 46.593958006513375\n",
      "episode: 68, reward: 47.64, average_reward: 46.61585845044701\n",
      "episode: 69, reward: 47.02, average_reward: 47.1827855565313\n",
      "episode: 70, reward: 47.76, average_reward: 47.13716617660438\n",
      "episode: 71, reward: 47.81, average_reward: 47.05513258112332\n",
      "episode: 72, reward: 46.53, average_reward: 47.17865484948407\n",
      "episode: 73, reward: 45.76, average_reward: 47.18057728322831\n",
      "episode: 74, reward: 38.85, average_reward: 47.024371921898414\n",
      "episode: 75, reward: 47.68, average_reward: 46.22574842121196\n",
      "episode: 76, reward: 47.67, average_reward: 46.427208451376124\n",
      "episode: 77, reward: 44.41, average_reward: 46.42493283738975\n",
      "episode: 78, reward: 48.33, average_reward: 46.11382137349354\n",
      "episode: 79, reward: 43.2, average_reward: 46.182502493066615\n",
      "episode: 80, reward: 45.57, average_reward: 45.80078697425924\n",
      "episode: 81, reward: 46.76, average_reward: 45.582278808162\n",
      "episode: 82, reward: 48.24, average_reward: 45.47667673533563\n",
      "episode: 83, reward: 46.29, average_reward: 45.64691302515228\n",
      "episode: 84, reward: 48.18, average_reward: 45.699900086716944\n",
      "episode: 85, reward: 47.38, average_reward: 46.63307944190805\n",
      "episode: 86, reward: 47.71, average_reward: 46.60322277749915\n",
      "episode: 87, reward: 46.77, average_reward: 46.607249773890814\n",
      "episode: 88, reward: 46.85, average_reward: 46.84336986235005\n",
      "episode: 89, reward: 44.84, average_reward: 46.69567879915267\n",
      "episode: 90, reward: 48.36, average_reward: 46.859126822613725\n",
      "episode: 91, reward: 48.49, average_reward: 47.13765245058036\n",
      "episode: 92, reward: 48.21, average_reward: 47.310583196145195\n",
      "episode: 93, reward: 47.79, average_reward: 47.30809484556202\n",
      "episode: 94, reward: 46.71, average_reward: 47.45815440873646\n",
      "episode: 95, reward: 48.68, average_reward: 47.31087869378051\n",
      "episode: 96, reward: 48.55, average_reward: 47.44104100198015\n",
      "episode: 97, reward: 47.33, average_reward: 47.525491790159855\n",
      "episode: 98, reward: 48.33, average_reward: 47.58077696191623\n",
      "episode: 99, reward: 47.71, average_reward: 47.728904806815635\n"
     ]
    },
    {
     "data": {
      "text/plain": "<Figure size 432x288 with 1 Axes>",
      "image/png": "[encoded data removed]"
     },
     "metadata": {
      "needs_background": "light"
     },
     "output_type": "display_data"
    }
   ],
   "source": [
    "rewards = []\n",
    "avg_rewards = []\n",
    "\n",
    "for episode in tqdm(range(NUM_EPISODES)):\n",
    "    time_step = env.reset()\n",
    "    state = parse(time_step.observation)\n",
    "    noise.reset()\n",
    "    episode_reward = 0\n",
    "\n",
    "    for step in range(DURATION):\n",
    "        action = agent.get_action(state)\n",
    "        action = noise.get_action(action, step)\n",
    "        time_step_2 = env.step(denorm(action))\n",
    "        state_2 = parse(time_step_2.observation)\n",
    "        agent.memory.push(state, action, time_step_2.reward, state_2, -1)\n",
    "        state = state_2\n",
    "        if len(agent.memory) > BATCH_SIZE:\n",
    "            agent.update(BATCH_SIZE)\n",
    "        episode_reward += time_step_2.reward\n",
    "    print(f\"episode: {episode}, \"\n",
    "      f\"reward: {np.round(episode_reward, decimals=2)}, \"\n",
    "      f\"average_reward: {np.mean(rewards[-10:])}\")\n",
    "    rewards.append(episode_reward)\n",
    "    avg_rewards.append(np.mean(rewards[-10:]))\n",
    "\n",
    "agent.save(PATH_MODEL)\n",
    "\n",
    "plt.plot(rewards)\n",
    "plt.plot(avg_rewards)\n",
    "plt.plot()\n",
    "plt.xlabel('Episode')\n",
    "plt.ylabel('Reward')\n",
    "plt.show()"
   ],
   "metadata": {
    "collapsed": false,
    "pycharm": {
     "name": "#%% Train\n"
    }
   }
  },
  {
   "cell_type": "code",
   "execution_count": 5,
   "outputs": [],
   "source": [
    "# Define a uniform random policy.\n",
    "t = -1\n",
    "def policy(time_step):\n",
    "    global t\n",
    "    t += 1\n",
    "    state = parse(time_step.observation)\n",
    "    action = agent.get_action(state)\n",
    "    # print(time_step)\n",
    "    action = noise.get_action(action, t)\n",
    "    action = denorm(action)\n",
    "    # print(action)\n",
    "    return action\n",
    "\n",
    "# Launch the viewer application.\n",
    "viewer.launch(env, policy=policy)"
   ],
   "metadata": {
    "collapsed": false,
    "pycharm": {
     "name": "#%% Display\n"
    }
   }
  },
  {
   "cell_type": "code",
   "execution_count": null,
   "outputs": [],
   "source": [],
   "metadata": {
    "collapsed": false,
    "pycharm": {
     "name": "#%%\n"
    }
   }
  }
 ],
 "metadata": {
  "kernelspec": {
   "display_name": "Python 3",
   "language": "python",
   "name": "python3"
  },
  "language_info": {
   "codemirror_mode": {
    "name": "ipython",
    "version": 2
   },
   "file_extension": ".py",
   "mimetype": "text/x-python",
   "name": "python",
   "nbconvert_exporter": "python",
   "pygments_lexer": "ipython2",
   "version": "2.7.6"
  }
 },
 "nbformat": 4,
 "nbformat_minor": 0
}